{
 "cells": [
  {
   "cell_type": "markdown",
   "id": "00a95c59-1d46-4da4-a172-175ecd24cb7a",
   "metadata": {},
   "source": [
    "## Product Review Sentiment Analysis"
   ]
  },
  {
   "cell_type": "markdown",
   "id": "559775b9-1b0c-4385-bd6a-12bb7d9bea02",
   "metadata": {},
   "source": [
    "The project's goal is to predict customer sentiment based on the review of the products the customer provides. By analyzing these reviews, \n",
    "we can identify the intent of why the customer has given the reviews. These insights can contribute to what companies can do to improve their\n",
    "negative review product and what they can continue to do based on the positive comments for their product development and marketing \n",
    "strategies to increase overall sales. This analysis involves efficiently processing large text data using Natural Language Processing to \n",
    "identify the sentiments of the customer review comments. Implementing this model can significantly contribute to increased trust and \n",
    "loyalty with the customer."
   ]
  },
  {
   "cell_type": "markdown",
   "id": "6036a99d-92cc-4b8c-b0e2-971e1cacf580",
   "metadata": {},
   "source": [
    "### Business Objective"
   ]
  },
  {
   "cell_type": "markdown",
   "id": "17af018b-071d-413c-8d03-e345dbbf4273",
   "metadata": {},
   "source": [
    "The business objective is to find a model that predicts customer sentiment based on the review comments. \n",
    "Identifying the intent (feature weight of the words) can provide insights that can contribute to product development, marketing strategies,\n",
    "and improvement of customer services. This type of model can help to increase trust and loyalty with the customer thereby increasing Sales \n",
    "and Customer Satisfaction"
   ]
  },
  {
   "cell_type": "markdown",
   "id": "d4587710-d4ae-4625-8eb9-584a9a93fcf5",
   "metadata": {},
   "source": [
    "### Data"
   ]
  },
  {
   "cell_type": "markdown",
   "id": "87de4b2c-082d-4b53-935b-1f33c5f62188",
   "metadata": {},
   "source": [
    "The Dataset used in this project is sourced from Kaggle https://www.kaggle.com/datasets/datafiniti/consumer-reviews-of-amazon-products/data\n",
    "This is a list of over 67,000 consumer reviews for Amazon products like the Kindle, Fire TV Stick, and more provided by Datafiniti's Product Database.\n",
    "The dataset includes basic product information, rating, review text, and more for each product."
   ]
  },
  {
   "cell_type": "markdown",
   "id": "cf34ebd5-0f77-4910-a39b-0e43af9b55f1",
   "metadata": {},
   "source": [
    "#### Import and Setup"
   ]
  },
  {
   "cell_type": "code",
   "execution_count": 411,
   "id": "03b5476c-cfad-42b5-81b9-3d30e79f508d",
   "metadata": {},
   "outputs": [],
   "source": [
    "# Importing the libraries\n",
    "# Pandas and Numpy\n",
    "import pandas as pd\n",
    "import numpy as np\n",
    "# data viz\n",
    "import matplotlib.pyplot as plt\n",
    "import seaborn as sns\n",
    "import plotly.express as px\n",
    "\n",
    "# NLP Libraries\n",
    "import nltk\n",
    "from nltk.corpus import stopwords \n",
    "from nltk.tokenize import TweetTokenizer\n",
    "from nltk import word_tokenize, sent_tokenize \n",
    "from nltk.stem import PorterStemmer, WordNetLemmatizer \n",
    "\n",
    "# Text Preprocessing\n",
    "import string\n",
    "from string import digits\n",
    "\n",
    "# Models\n",
    "from sklearn.linear_model import LogisticRegression\n",
    "from sklearn.tree import DecisionTreeClassifier\n",
    "from sklearn.naive_bayes import MultinomialNB\n",
    "from sklearn.svm import SVC\n",
    "from sklearn.pipeline import Pipeline\n",
    "from sklearn.feature_extraction.text import CountVectorizer, TfidfVectorizer\n",
    "from sklearn.model_selection import train_test_split, GridSearchCV\n",
    "\n",
    "import warnings\n",
    "warnings.filterwarnings('ignore')"
   ]
  },
  {
   "cell_type": "code",
   "execution_count": 419,
   "id": "8b316e5a-5092-405d-aa24-528daee5d8a2",
   "metadata": {},
   "outputs": [],
   "source": [
    "# Read the Data as Pandas Dataframe\n",
    "df1 = pd.read_csv('data/1429_1.csv',low_memory=False)\n",
    "df2 = pd.read_csv('data/Datafiniti_Amazon_Consumer_Reviews_of_Amazon_Products_May19.csv.zip',low_memory=False)\n",
    "df3 = pd.read_csv('data/Datafiniti_Amazon_Consumer_Reviews_of_Amazon_Products.csv.zip',low_memory=False)\n",
    "df = pd.concat([df1,df2,df3],ignore_index=True)[df1.columns.tolist()]"
   ]
  },
  {
   "cell_type": "code",
   "execution_count": 420,
   "id": "96706670-faf2-4679-b207-4642a39cadb4",
   "metadata": {},
   "outputs": [
    {
     "data": {
      "text/html": [
       "<div>\n",
       "<style scoped>\n",
       "    .dataframe tbody tr th:only-of-type {\n",
       "        vertical-align: middle;\n",
       "    }\n",
       "\n",
       "    .dataframe tbody tr th {\n",
       "        vertical-align: top;\n",
       "    }\n",
       "\n",
       "    .dataframe thead th {\n",
       "        text-align: right;\n",
       "    }\n",
       "</style>\n",
       "<table border=\"1\" class=\"dataframe\">\n",
       "  <thead>\n",
       "    <tr style=\"text-align: right;\">\n",
       "      <th></th>\n",
       "      <th>id</th>\n",
       "      <th>name</th>\n",
       "      <th>asins</th>\n",
       "      <th>brand</th>\n",
       "      <th>categories</th>\n",
       "      <th>keys</th>\n",
       "      <th>manufacturer</th>\n",
       "      <th>reviews.date</th>\n",
       "      <th>reviews.dateAdded</th>\n",
       "      <th>reviews.dateSeen</th>\n",
       "      <th>...</th>\n",
       "      <th>reviews.doRecommend</th>\n",
       "      <th>reviews.id</th>\n",
       "      <th>reviews.numHelpful</th>\n",
       "      <th>reviews.rating</th>\n",
       "      <th>reviews.sourceURLs</th>\n",
       "      <th>reviews.text</th>\n",
       "      <th>reviews.title</th>\n",
       "      <th>reviews.userCity</th>\n",
       "      <th>reviews.userProvince</th>\n",
       "      <th>reviews.username</th>\n",
       "    </tr>\n",
       "  </thead>\n",
       "  <tbody>\n",
       "    <tr>\n",
       "      <th>0</th>\n",
       "      <td>AVqkIhwDv8e3D1O-lebb</td>\n",
       "      <td>All-New Fire HD 8 Tablet, 8 HD Display, Wi-Fi,...</td>\n",
       "      <td>B01AHB9CN2</td>\n",
       "      <td>Amazon</td>\n",
       "      <td>Electronics,iPad &amp; Tablets,All Tablets,Fire Ta...</td>\n",
       "      <td>841667104676,amazon/53004484,amazon/b01ahb9cn2...</td>\n",
       "      <td>Amazon</td>\n",
       "      <td>2017-01-13T00:00:00.000Z</td>\n",
       "      <td>2017-07-03T23:33:15Z</td>\n",
       "      <td>2017-06-07T09:04:00.000Z,2017-04-30T00:45:00.000Z</td>\n",
       "      <td>...</td>\n",
       "      <td>True</td>\n",
       "      <td>NaN</td>\n",
       "      <td>0.0</td>\n",
       "      <td>5.0</td>\n",
       "      <td>http://reviews.bestbuy.com/3545/5620406/review...</td>\n",
       "      <td>This product so far has not disappointed. My c...</td>\n",
       "      <td>Kindle</td>\n",
       "      <td>NaN</td>\n",
       "      <td>NaN</td>\n",
       "      <td>Adapter</td>\n",
       "    </tr>\n",
       "    <tr>\n",
       "      <th>1</th>\n",
       "      <td>AVqkIhwDv8e3D1O-lebb</td>\n",
       "      <td>All-New Fire HD 8 Tablet, 8 HD Display, Wi-Fi,...</td>\n",
       "      <td>B01AHB9CN2</td>\n",
       "      <td>Amazon</td>\n",
       "      <td>Electronics,iPad &amp; Tablets,All Tablets,Fire Ta...</td>\n",
       "      <td>841667104676,amazon/53004484,amazon/b01ahb9cn2...</td>\n",
       "      <td>Amazon</td>\n",
       "      <td>2017-01-13T00:00:00.000Z</td>\n",
       "      <td>2017-07-03T23:33:15Z</td>\n",
       "      <td>2017-06-07T09:04:00.000Z,2017-04-30T00:45:00.000Z</td>\n",
       "      <td>...</td>\n",
       "      <td>True</td>\n",
       "      <td>NaN</td>\n",
       "      <td>0.0</td>\n",
       "      <td>5.0</td>\n",
       "      <td>http://reviews.bestbuy.com/3545/5620406/review...</td>\n",
       "      <td>great for beginner or experienced person. Boug...</td>\n",
       "      <td>very fast</td>\n",
       "      <td>NaN</td>\n",
       "      <td>NaN</td>\n",
       "      <td>truman</td>\n",
       "    </tr>\n",
       "    <tr>\n",
       "      <th>2</th>\n",
       "      <td>AVqkIhwDv8e3D1O-lebb</td>\n",
       "      <td>All-New Fire HD 8 Tablet, 8 HD Display, Wi-Fi,...</td>\n",
       "      <td>B01AHB9CN2</td>\n",
       "      <td>Amazon</td>\n",
       "      <td>Electronics,iPad &amp; Tablets,All Tablets,Fire Ta...</td>\n",
       "      <td>841667104676,amazon/53004484,amazon/b01ahb9cn2...</td>\n",
       "      <td>Amazon</td>\n",
       "      <td>2017-01-13T00:00:00.000Z</td>\n",
       "      <td>2017-07-03T23:33:15Z</td>\n",
       "      <td>2017-06-07T09:04:00.000Z,2017-04-30T00:45:00.000Z</td>\n",
       "      <td>...</td>\n",
       "      <td>True</td>\n",
       "      <td>NaN</td>\n",
       "      <td>0.0</td>\n",
       "      <td>5.0</td>\n",
       "      <td>http://reviews.bestbuy.com/3545/5620406/review...</td>\n",
       "      <td>Inexpensive tablet for him to use and learn on...</td>\n",
       "      <td>Beginner tablet for our 9 year old son.</td>\n",
       "      <td>NaN</td>\n",
       "      <td>NaN</td>\n",
       "      <td>DaveZ</td>\n",
       "    </tr>\n",
       "    <tr>\n",
       "      <th>3</th>\n",
       "      <td>AVqkIhwDv8e3D1O-lebb</td>\n",
       "      <td>All-New Fire HD 8 Tablet, 8 HD Display, Wi-Fi,...</td>\n",
       "      <td>B01AHB9CN2</td>\n",
       "      <td>Amazon</td>\n",
       "      <td>Electronics,iPad &amp; Tablets,All Tablets,Fire Ta...</td>\n",
       "      <td>841667104676,amazon/53004484,amazon/b01ahb9cn2...</td>\n",
       "      <td>Amazon</td>\n",
       "      <td>2017-01-13T00:00:00.000Z</td>\n",
       "      <td>2017-07-03T23:33:15Z</td>\n",
       "      <td>2017-06-07T09:04:00.000Z,2017-04-30T00:45:00.000Z</td>\n",
       "      <td>...</td>\n",
       "      <td>True</td>\n",
       "      <td>NaN</td>\n",
       "      <td>0.0</td>\n",
       "      <td>4.0</td>\n",
       "      <td>http://reviews.bestbuy.com/3545/5620406/review...</td>\n",
       "      <td>I've had my Fire HD 8 two weeks now and I love...</td>\n",
       "      <td>Good!!!</td>\n",
       "      <td>NaN</td>\n",
       "      <td>NaN</td>\n",
       "      <td>Shacks</td>\n",
       "    </tr>\n",
       "    <tr>\n",
       "      <th>4</th>\n",
       "      <td>AVqkIhwDv8e3D1O-lebb</td>\n",
       "      <td>All-New Fire HD 8 Tablet, 8 HD Display, Wi-Fi,...</td>\n",
       "      <td>B01AHB9CN2</td>\n",
       "      <td>Amazon</td>\n",
       "      <td>Electronics,iPad &amp; Tablets,All Tablets,Fire Ta...</td>\n",
       "      <td>841667104676,amazon/53004484,amazon/b01ahb9cn2...</td>\n",
       "      <td>Amazon</td>\n",
       "      <td>2017-01-12T00:00:00.000Z</td>\n",
       "      <td>2017-07-03T23:33:15Z</td>\n",
       "      <td>2017-06-07T09:04:00.000Z,2017-04-30T00:45:00.000Z</td>\n",
       "      <td>...</td>\n",
       "      <td>True</td>\n",
       "      <td>NaN</td>\n",
       "      <td>0.0</td>\n",
       "      <td>5.0</td>\n",
       "      <td>http://reviews.bestbuy.com/3545/5620406/review...</td>\n",
       "      <td>I bought this for my grand daughter when she c...</td>\n",
       "      <td>Fantastic Tablet for kids</td>\n",
       "      <td>NaN</td>\n",
       "      <td>NaN</td>\n",
       "      <td>explore42</td>\n",
       "    </tr>\n",
       "  </tbody>\n",
       "</table>\n",
       "<p>5 rows × 21 columns</p>\n",
       "</div>"
      ],
      "text/plain": [
       "                     id                                               name  \\\n",
       "0  AVqkIhwDv8e3D1O-lebb  All-New Fire HD 8 Tablet, 8 HD Display, Wi-Fi,...   \n",
       "1  AVqkIhwDv8e3D1O-lebb  All-New Fire HD 8 Tablet, 8 HD Display, Wi-Fi,...   \n",
       "2  AVqkIhwDv8e3D1O-lebb  All-New Fire HD 8 Tablet, 8 HD Display, Wi-Fi,...   \n",
       "3  AVqkIhwDv8e3D1O-lebb  All-New Fire HD 8 Tablet, 8 HD Display, Wi-Fi,...   \n",
       "4  AVqkIhwDv8e3D1O-lebb  All-New Fire HD 8 Tablet, 8 HD Display, Wi-Fi,...   \n",
       "\n",
       "        asins   brand                                         categories  \\\n",
       "0  B01AHB9CN2  Amazon  Electronics,iPad & Tablets,All Tablets,Fire Ta...   \n",
       "1  B01AHB9CN2  Amazon  Electronics,iPad & Tablets,All Tablets,Fire Ta...   \n",
       "2  B01AHB9CN2  Amazon  Electronics,iPad & Tablets,All Tablets,Fire Ta...   \n",
       "3  B01AHB9CN2  Amazon  Electronics,iPad & Tablets,All Tablets,Fire Ta...   \n",
       "4  B01AHB9CN2  Amazon  Electronics,iPad & Tablets,All Tablets,Fire Ta...   \n",
       "\n",
       "                                                keys manufacturer  \\\n",
       "0  841667104676,amazon/53004484,amazon/b01ahb9cn2...       Amazon   \n",
       "1  841667104676,amazon/53004484,amazon/b01ahb9cn2...       Amazon   \n",
       "2  841667104676,amazon/53004484,amazon/b01ahb9cn2...       Amazon   \n",
       "3  841667104676,amazon/53004484,amazon/b01ahb9cn2...       Amazon   \n",
       "4  841667104676,amazon/53004484,amazon/b01ahb9cn2...       Amazon   \n",
       "\n",
       "               reviews.date     reviews.dateAdded  \\\n",
       "0  2017-01-13T00:00:00.000Z  2017-07-03T23:33:15Z   \n",
       "1  2017-01-13T00:00:00.000Z  2017-07-03T23:33:15Z   \n",
       "2  2017-01-13T00:00:00.000Z  2017-07-03T23:33:15Z   \n",
       "3  2017-01-13T00:00:00.000Z  2017-07-03T23:33:15Z   \n",
       "4  2017-01-12T00:00:00.000Z  2017-07-03T23:33:15Z   \n",
       "\n",
       "                                    reviews.dateSeen  ... reviews.doRecommend  \\\n",
       "0  2017-06-07T09:04:00.000Z,2017-04-30T00:45:00.000Z  ...                True   \n",
       "1  2017-06-07T09:04:00.000Z,2017-04-30T00:45:00.000Z  ...                True   \n",
       "2  2017-06-07T09:04:00.000Z,2017-04-30T00:45:00.000Z  ...                True   \n",
       "3  2017-06-07T09:04:00.000Z,2017-04-30T00:45:00.000Z  ...                True   \n",
       "4  2017-06-07T09:04:00.000Z,2017-04-30T00:45:00.000Z  ...                True   \n",
       "\n",
       "  reviews.id  reviews.numHelpful  reviews.rating  \\\n",
       "0        NaN                 0.0             5.0   \n",
       "1        NaN                 0.0             5.0   \n",
       "2        NaN                 0.0             5.0   \n",
       "3        NaN                 0.0             4.0   \n",
       "4        NaN                 0.0             5.0   \n",
       "\n",
       "                                  reviews.sourceURLs  \\\n",
       "0  http://reviews.bestbuy.com/3545/5620406/review...   \n",
       "1  http://reviews.bestbuy.com/3545/5620406/review...   \n",
       "2  http://reviews.bestbuy.com/3545/5620406/review...   \n",
       "3  http://reviews.bestbuy.com/3545/5620406/review...   \n",
       "4  http://reviews.bestbuy.com/3545/5620406/review...   \n",
       "\n",
       "                                        reviews.text  \\\n",
       "0  This product so far has not disappointed. My c...   \n",
       "1  great for beginner or experienced person. Boug...   \n",
       "2  Inexpensive tablet for him to use and learn on...   \n",
       "3  I've had my Fire HD 8 two weeks now and I love...   \n",
       "4  I bought this for my grand daughter when she c...   \n",
       "\n",
       "                             reviews.title reviews.userCity  \\\n",
       "0                                   Kindle              NaN   \n",
       "1                                very fast              NaN   \n",
       "2  Beginner tablet for our 9 year old son.              NaN   \n",
       "3                                  Good!!!              NaN   \n",
       "4                Fantastic Tablet for kids              NaN   \n",
       "\n",
       "   reviews.userProvince  reviews.username  \n",
       "0                   NaN           Adapter  \n",
       "1                   NaN            truman  \n",
       "2                   NaN             DaveZ  \n",
       "3                   NaN            Shacks  \n",
       "4                   NaN         explore42  \n",
       "\n",
       "[5 rows x 21 columns]"
      ]
     },
     "execution_count": 420,
     "metadata": {},
     "output_type": "execute_result"
    }
   ],
   "source": [
    "# View the dataframe\n",
    "df.head()"
   ]
  },
  {
   "cell_type": "markdown",
   "id": "89c4510a-6355-4497-8c3b-9faad1d25eed",
   "metadata": {},
   "source": [
    "#### Exploratory Data Analysis"
   ]
  },
  {
   "cell_type": "code",
   "execution_count": 421,
   "id": "fba8dcbc-3012-4bc0-90e1-506deb205a0c",
   "metadata": {},
   "outputs": [
    {
     "name": "stdout",
     "output_type": "stream",
     "text": [
      "<class 'pandas.core.frame.DataFrame'>\n",
      "RangeIndex: 67992 entries, 0 to 67991\n",
      "Data columns (total 21 columns):\n",
      " #   Column                Non-Null Count  Dtype  \n",
      "---  ------                --------------  -----  \n",
      " 0   id                    67992 non-null  object \n",
      " 1   name                  61232 non-null  object \n",
      " 2   asins                 67990 non-null  object \n",
      " 3   brand                 67992 non-null  object \n",
      " 4   categories            67992 non-null  object \n",
      " 5   keys                  67992 non-null  object \n",
      " 6   manufacturer          67992 non-null  object \n",
      " 7   reviews.date          67953 non-null  object \n",
      " 8   reviews.dateAdded     25091 non-null  object \n",
      " 9   reviews.dateSeen      67992 non-null  object \n",
      " 10  reviews.didPurchase   10 non-null     object \n",
      " 11  reviews.doRecommend   55152 non-null  object \n",
      " 12  reviews.id            71 non-null     float64\n",
      " 13  reviews.numHelpful    55246 non-null  float64\n",
      " 14  reviews.rating        67959 non-null  float64\n",
      " 15  reviews.sourceURLs    67992 non-null  object \n",
      " 16  reviews.text          67991 non-null  object \n",
      " 17  reviews.title         67973 non-null  object \n",
      " 18  reviews.userCity      0 non-null      float64\n",
      " 19  reviews.userProvince  0 non-null      float64\n",
      " 20  reviews.username      67979 non-null  object \n",
      "dtypes: float64(5), object(16)\n",
      "memory usage: 10.9+ MB\n"
     ]
    }
   ],
   "source": [
    "# Check the column details and data type\n",
    "df.info()"
   ]
  },
  {
   "cell_type": "code",
   "execution_count": 352,
   "id": "a7d429a0-affa-4566-854e-4474cc1b23b6",
   "metadata": {},
   "outputs": [
    {
     "data": {
      "text/plain": [
       "641"
      ]
     },
     "execution_count": 352,
     "metadata": {},
     "output_type": "execute_result"
    }
   ],
   "source": [
    "# Check for Duplicates\n",
    "df.duplicated().sum()"
   ]
  },
  {
   "cell_type": "code",
   "execution_count": 353,
   "id": "7a511f01-f2af-44de-bb48-5468cda20cc3",
   "metadata": {},
   "outputs": [],
   "source": [
    "# Dropping Duplicates\n",
    "df = df.drop_duplicates()"
   ]
  },
  {
   "cell_type": "code",
   "execution_count": 354,
   "id": "59360186-2f02-42a5-bd18-10119a6288f9",
   "metadata": {},
   "outputs": [
    {
     "data": {
      "text/plain": [
       "id                          0\n",
       "name                     6760\n",
       "asins                       2\n",
       "brand                       0\n",
       "categories                  0\n",
       "keys                        0\n",
       "manufacturer                0\n",
       "reviews.date               39\n",
       "reviews.dateAdded       42268\n",
       "reviews.dateSeen            0\n",
       "reviews.didPurchase     67341\n",
       "reviews.doRecommend     12840\n",
       "reviews.id              67280\n",
       "reviews.numHelpful      12746\n",
       "reviews.rating             33\n",
       "reviews.sourceURLs          0\n",
       "reviews.text                1\n",
       "reviews.title              19\n",
       "reviews.userCity        67351\n",
       "reviews.userProvince    67351\n",
       "reviews.username           12\n",
       "dtype: int64"
      ]
     },
     "execution_count": 354,
     "metadata": {},
     "output_type": "execute_result"
    }
   ],
   "source": [
    "# Check for null values\n",
    "df.isna().sum()"
   ]
  },
  {
   "cell_type": "code",
   "execution_count": 355,
   "id": "d3cc34c7-8d9b-4ada-bdd4-25f08ba1742f",
   "metadata": {},
   "outputs": [
    {
     "data": {
      "text/plain": [
       "(67351, 21)"
      ]
     },
     "execution_count": 355,
     "metadata": {},
     "output_type": "execute_result"
    }
   ],
   "source": [
    "df.shape"
   ]
  },
  {
   "cell_type": "code",
   "execution_count": 356,
   "id": "de0b35fe-fe32-4df4-8447-37982afacaff",
   "metadata": {},
   "outputs": [],
   "source": [
    "# Fill the missing values of the name with Categories.\n",
    "df['name'] = df['name'].fillna(df['categories'])"
   ]
  },
  {
   "cell_type": "code",
   "execution_count": 357,
   "id": "2dbdcef4-905b-4abe-988d-536364495494",
   "metadata": {},
   "outputs": [
    {
     "data": {
      "text/plain": [
       "0                                                                                                                 \n",
       "Fire Tablet                                                                                                           12646\n",
       "AmazonBasics AAA Performance Alkaline Batteries (36 Count)                                                             8343\n",
       "All-New Fire HD 8 Tablet                                                                                               6794\n",
       "Fire Kids Edition Tablet                                                                                               6410\n",
       "Back To College                                                                                                        5056\n",
       "AmazonBasics AA Performance Alkaline Batteries (48 Count) - Packaging May Vary                                         3728\n",
       "Echo (White)                                                                                                           3310\n",
       "Amazon Kindle Paperwhite - eBook reader - 4 GB - 6 monochrome Paperwhite - touchscreen - Wi-Fi - black                 3176\n",
       "Fire HD 8 Tablet with Alexa                                                                                            2672\n",
       "Amazon Fire Tv                                                                                                         2528\n",
       "Fire Tablet with Alexa                                                                                                 1833\n",
       "Kindle Voyage E-reader                                                                                                 1121\n",
       "All-New Fire HD 8 Tablet with Alexa                                                                                    1043\n",
       "Brand New Amazon Kindle Fire 16gb 7 Ips Display Tablet Wifi 16 Gb Blue                                                 1038\n",
       "Amazon Echo Show Alexa-enabled Bluetooth Speaker with 7\" Screen                                                         845\n",
       "Stereos                                                                                                                 671\n",
       "Featured Brands                                                                                                         636\n",
       "Amazon Tap Smart Assistant Alexaenabled (black) Brand New                                                               601\n",
       "Amazon - Echo Plus w/ Built-In Hub - Silver                                                                             590\n",
       "All-New Fire HD 8 Kids Edition Tablet                                                                                   526\n",
       "Brand New Amazon Kindle Fire 16gb 7\" Ips Display Tablet Wifi 16 Gb Blue                                                 418\n",
       "Kindle E-reader - White                                                                                                 375\n",
       "Amazon - Amazon Tap Portable Bluetooth and Wi-Fi Speaker - Black                                                        318\n",
       "Electronics                                                                                                             281\n",
       "All-New Kindle E-reader - Black                                                                                         229\n",
       "Amazon Tap - Alexa-Enabled Portable Bluetooth Speaker                                                                   225\n",
       "Amazon 5W USB Official OEM Charger and Power Adapter for Fire Tablets and Kindle eReaders                               208\n",
       "Fire HD 10 Tablet                                                                                                       195\n",
       "Kindle Oasis E-reader with Leather Charging Cover - Merlot                                                              137\n",
       "Amazon Fire Hd 8 8in Tablet 16gb Black B018szt3bk 6th Gen (2016) Android                                                135\n",
       "Amazon Fire HD 8 with Alexa (8\" HD Display Tablet)                                                                      130\n",
       "Amazon Fire Hd 10 Tablet                                                                                                128\n",
       "Amazon 9W PowerFast Official OEM USB Charger and Power Adapter for Fire Tablets and Kindle eReaders                      97\n",
       "Amazon Kindle E-Reader 6\" Wifi (8th Generation                                                                           96\n",
       "Kindle Oasis E-reader with Leather Charging Cover - Black                                                                93\n",
       "Amazon - Kindle Voyage - 6\" - 4GB - Black                                                                                82\n",
       "All-New Fire 7 Tablet with Alexa                                                                                         82\n",
       "Chargers & Adapters                                                                                                      73\n",
       "Kindle Oasis E-reader with Leather Charging Cover - Walnut                                                               62\n",
       "Amazon - Kindle Voyage - 4GB - Wi-Fi + 3G - Black                                                                        47\n",
       "All-New Kindle Oasis E-reader - 7 High-Resolution Display (300 ppi)                                                      33\n",
       "Kindle Paperwhite E-reader - White                                                                                       30\n",
       "AmazonBasics Backpack for Laptops up to 17-inches                                                                        25\n",
       "AmazonBasics 15.6-Inch Laptop and Tablet Bag                                                                             21\n",
       "Cases                                                                                                                    13\n",
       "Amazon Echo (1st Generationcertified) Color:White Free Shipping                                                          13\n",
       "Computers/Tablets & Networking                                                                                           13\n",
       "AmazonBasics Ventilated Adjustable Laptop Stand                                                                          12\n",
       "Certified Refurbished Amazon Fire TV with Alexa Voice Remote                                                              9\n",
       "Kindle Paperwhite                                                                                                         9\n",
       "Amazon Kindle Charger Power Adapter Wall Charger And Usb Cable Micro Usb Cord                                             9\n",
       "Expanding Accordion File Folder Plastic Portable Document Organizer Letter Size                                           9\n",
       "Kindle Keyboard                                                                                                           9\n",
       "Kindle Dx Leather Cover                                                                                                   9\n",
       "Power Adapters & Cables                                                                                                   8\n",
       "Amazon Echo and Fire TV Power Adapter                                                                                     8\n",
       "TVs Entertainment                                                                                                         7\n",
       "New Amazon Kindle Fire Hd 9w Powerfast Adapter Charger + Micro Usb Angle Cable                                            7\n",
       "Certified Refurbished Amazon Echo                                                                                         7\n",
       "Amazon Fire Hd 6 Standing Protective Case(4th Generation - 2014 Release)                                                  7\n",
       "AmazonBasics Bluetooth Keyboard for Android Devices - Black                                                               6\n",
       "Amazon Fire Kids Edition Tablet                                                                                           6\n",
       "AmazonBasics External Hard Drive Case                                                                                     6\n",
       "Fire TV Stick Streaming Media Player Pair Kit                                                                             6\n",
       "AmazonBasics USB 3.0 Cable - A-Male to B-Male - 6 Feet (1.8 Meters)                                                       6\n",
       "AmazonBasics 11.6-Inch Laptop Sleeve                                                                                      6\n",
       "Kindle PowerFast International Charging Kit (for accelerated charging in over 200 countries)                              5\n",
       "Amazon - Fire 16GB (5th Gen                                                                                               5\n",
       "AmazonBasics 16-Gauge Speaker Wire - 100 Feet                                                                             5\n",
       "Amazon Kindle Replacement Power Adapter (Fits Latest Generation Kindle and Kindle DX) For shipment in the U.S only        5\n",
       "Amazon Kindle Fire 5ft USB to Micro-USB Cable (works with most Micro-USB Tablets)                                         4\n",
       "Oem Amazon Kindle Power Usb Adapter Wall Travel Charger Fire/dx/+micro Usb Cable                                          4\n",
       "Amazon Fire TV with 4K Ultra HD and Alexa Voice Remote (Pendant Design) | Streaming Media Player                          4\n",
       "AmazonBasics Nylon CD/DVD Binder (400 Capacity)                                                                           4\n",
       "Echo (Black)                                                                                                              4\n",
       "Amazon Echo (2nd Generation) Smart Assistant Oak Finish Priority Shipping                                                 3\n",
       "Amazon Fire TV Gaming Edition Streaming Media Player                                                                      3\n",
       "Certified Refurbished Amazon Fire TV (Previous Generation - 1st)                                                          3\n",
       "Amazon Kindle Touch Leather Case (4th Generation - 2011 Release)                                                          3\n",
       "Amazon Kindle Lighted Leather Cover                                                                                       3\n",
       "All-new Echo (2nd Generation) with improved sound                                                                         2\n",
       "Echo Spot Pair Kit (Black)                                                                                                2\n",
       "AmazonBasics Double-Door Folding Metal Dog Crate - Medium (36x23x25 Inches)                                               2\n",
       "Amazon Echo ‚Äì White                                                                                                     2\n",
       "Certified Refurbished Amazon Fire TV Stick (Previous Generation - 1st)                                                    2\n",
       "Amazon Kindle Fire Hd (3rd Generation) 8gb                                                                                2\n",
       "Cat Litter Box Covered Tray Kitten Extra Large Enclosed Hooded Hidden Toilet                                              2\n",
       "Rice Dishes                                                                                                               1\n",
       "AmazonBasics Nespresso Pod Storage Drawer - 50 Capsule Capacity                                                           1\n",
       "Fire Tablets                                                                                                              1\n",
       "Echo Dot (Previous generation)                                                                                            1\n",
       "Coconut Water Red Tea 16.5 Oz (pack of 12)                                                                                1\n",
       "AmazonBasics Single-Door Folding Metal Dog Crate - Large (42x28x30 Inches)                                                1\n",
       "AmazonBasics Silicone Hot Handle Cover/Holder - Red                                                                       1\n",
       "Amazon Standing Protective Case for Fire HD 6 (4th Generation) - Black                                                    1\n",
       "Amazon Echo Show - Black                                                                                                  1\n",
       "Two Door Top Load Pet Kennel Travel Crate Dog Cat Pet Cage Carrier Box Tray 23\"                                           1\n",
       "Name: count, dtype: int64"
      ]
     },
     "execution_count": 357,
     "metadata": {},
     "output_type": "execute_result"
    }
   ],
   "source": [
    "# Check the Product name and its review comments. View the Product name by extracting the words before frist comma\n",
    "pd.set_option('display.max_rows', 500)\n",
    "df['name'].str.extract(r'^([^,]+)').value_counts()"
   ]
  },
  {
   "cell_type": "code",
   "execution_count": 358,
   "id": "da348463-7b56-4526-a93b-74640d5adcbc",
   "metadata": {},
   "outputs": [],
   "source": [
    "# Standardize the naming for the Product\n",
    "df['name'] = df['name'].str.extract(r'^([^,]+)')"
   ]
  },
  {
   "cell_type": "code",
   "execution_count": 359,
   "id": "e1cc828f-fc3e-435d-85ee-a5c5ae5e130a",
   "metadata": {},
   "outputs": [],
   "source": [
    "# Standardize the naming for the Product\n",
    "df['name'] = df['name'].replace({'Fire Tablet':'Amazon Fire Tablet',\n",
    "                                 'Fire HD 10 Tablet':'Amazon Fire Tablet',\n",
    "                                 'AmazonBasics AAA Performance Alkaline Batteries (36 Count)':'Batteries',\n",
    "                                 'Fire Kids Edition Tablet': 'Amazon Fire Tablet',\n",
    "                                 'AmazonBasics AA Performance Alkaline Batteries (48 Count) - Packaging May Vary':'Batteries',\n",
    "                                 'Echo (White)':'Echo',\n",
    "                                 'Fire Tablet with Alexa':'Amazon Fire Tablet',\n",
    "                                 'All-New Fire 7 Tablet with Alexa':'Amazon Fire Tablet',\n",
    "                                 'Kindle Voyage E-reader':'Amazon Kindle eBook reader',\n",
    "                                 'Kindle E-reader - White':'Amazon Kindle eBook reader',\n",
    "                                 'Oasis E-reader':'Amazon Kindle eBook reader',\n",
    "                                 'Amazon Kindle E-Reader 6\" Wifi (8th Generation':'Amazon Kindle eBook reader',\n",
    "                                 'Amazon - Kindle Voyage - 6\" - 4GB - Black':'Amazon Kindle eBook reader',\n",
    "                                 'Amazon Fire HD 8 with Alexa (8\" HD Display Tablet)':'Amazon Fire Tablet',\n",
    "                                 'Kindle Oasis E-reader with Leather Charging Cover - Walnut':'Amazon Kindle eBook reader',\n",
    "                                 'Amazon Kindle Voyage':'Amazon Kindle eBook reader',\n",
    "                                 'All-New Kindle Oasis E-reader - 7 High-Resolution Display (300 ppi)':'Amazon Kindle eBook reader',\n",
    "                                 'Amazon - Kindle Voyage - 6\" - 4GB - Black':'Amazon Kindle eBook reader',\n",
    "                                 'AmazonBasics Backpack for Laptops up to 17-inches':'Accessories',\n",
    "                                 'Amazon Echo (1st Generationcertified) Color:White Free Shipping':'Echo',\n",
    "                                 'AmazonBasics 15.6-Inch Laptop and Tablet Bag':'Accessories',\n",
    "                                 'AmazonBasics Ventilated Adjustable Laptop Stand':'Accessories',\n",
    "                                 'AmazonBasics USB 3.0 Cable - A-Male to B-Male - 6 Feet (1.8 Meters)':'Accessories',\n",
    "                                 'AmazonBasics 11.6-Inch Laptop Sleeve':'Accessories',\n",
    "                                 'AmazonBasics External Hard Drive Case':'Accessories',\n",
    "                                 'AmazonBasics Bluetooth Keyboard for Android Devices - Black':'Accessories',\n",
    "                                 'Amazon Fire Tv':'Amazon Fire TV',\n",
    "                                 'Fire TV Stick Streaming Media Player Pair Kit': 'Amazon Fire TV',\n",
    "                                 'Cat Litter Box Covered Tray Kitten Extra Large Enclosed Hooded Hidden Toilet':'Accessories',\n",
    "                                 'AmazonBasics Double-Door Folding Metal Dog Crate - Medium (36x23x25 Inches)':'Accessories',\n",
    "                                 'AmazonBasics Silicone Hot Handle Cover/Holder - Red':'Accessories',\n",
    "                                 'Echo Dot (Previous generation)':'Echo',\n",
    "                                 'Amazon Echo Show - Black':'Echo',\n",
    "                                 'AmazonBasics Single-Door Folding Metal Dog Crate - Large (42x28x30 Inches)':'Accessories',\n",
    "                                 'AmazonBasics Nespresso Pod Storage Drawer - 50 Capsule Capacity':'Accessories',\n",
    "                                 'Two Door Top Load Pet Kennel Travel Crate Dog Cat Pet Cage Carrier Box Tray 23\"':'Accessories',\n",
    "                                 'Kindle PowerFast International Charging Kit (for accelerated charging in over 200 countries)':'Power Adapters & Cables',\n",
    "                                 'AmazonBasics 16-Gauge Speaker Wire - 100 Feet':'Power Adapters & Cables',\n",
    "                                 'Amazon Kindle Replacement Power Adapter (Fits Latest Generation Kindle and Kindle DX) For shipment in the U.S only':'Power Adapters & Cables',\n",
    "                                 'Amazon Fire TV with 4K Ultra HD and Alexa Voice Remote (Pendant Design) | Streaming Media Player':'Amazon Fire TV',\n",
    "                                 'Oem Amazon Kindle Power Usb Adapter Wall Travel Charger Fire/dx/+micro Usb Cable':'Power Adapters & Cables',\n",
    "                                 'Amazon Echo (2nd Generation) Smart Assistant Oak Finish Priority Shipping':'Echo',\n",
    "                                 'Amazon Fire TV Gaming Edition Streaming Media Player':'Amazon Fire TV',\n",
    "                                 'Amazon Echo ‚Äì White':'Echo',\n",
    "                                 'Echo Spot Pair Kit (Black)':'Echo',\n",
    "                                 'All-new Echo (2nd Generation) with improved sound':'Echo',\n",
    "                                 'Kindle Keyboard': 'Accessories',\n",
    "                                 'AmazonBasics Nylon CD/DVD Binder (400 Capacity)': 'Accessories',\n",
    "                                 'Kindle Paperwhite':'Amazon Kindle eBook reader',\n",
    "                                 'Kindle Dx Leather Cover':'Accessories',\n",
    "                                 'Amazon Kindle Charger Power Adapter Wall Charger And Usb Cable Micro Usb Cord':'Power Adapters & Cables',\n",
    "                                 'Expanding Accordion File Folder Plastic Portable Document Organizer Letter Size':'Folder',\n",
    "                                 'Amazon Kindle Paperwhite - eBook reader - 4 GB - 6 monochrome Paperwhite - touchscreen - Wi-Fi - black':'Amazon Kindle eBook reader',\n",
    "                                 'Brand New Amazon Kindle Fire 16gb 7\" Ips Display Tablet Wifi 16 Gb Blue':'Amazon Kindle eBook reader',\n",
    "                                 'All-New Fire HD 8 Tablet':'Amazon Fire Tablet',\n",
    "                                 'All-New Fire HD 8 Tablet with Alexa': 'Amazon Fire Tablet',\n",
    "                                 'All-New Fire HD 8 Kids Edition Tablet':'Amazon Fire Tablet',\n",
    "                                 'All-New Fire 7 Tablet with Alexa':'Amazon Fire Tablet',\n",
    "                                 'Brand New Amazon Kindle Fire 16gb 7 Ips Display Tablet Wifi 16 Gb Blue':'Amazon Kindle Fire',\n",
    "                                 'Amazon Echo Show Alexa-enabled Bluetooth Speaker with 7\" Screen':'Echo',\n",
    "                                 'Amazon - Echo Plus w/ Built-In Hub - Silver':'Echo',\n",
    "                                 'Amazon Tap Smart Assistant Alexaenabled (black) Brand New':'Amazon Portable Bluetooth',\n",
    "                                 'Amazon Tap - Alexa-Enabled Portable Bluetooth Speaker': 'Amazon Portable Bluetooth',\n",
    "                                'Amazon - Amazon Tap Portable Bluetooth and Wi-Fi Speaker - Black':'Amazon Portable Bluetooth',\n",
    "                                'All-New Kindle E-reader - Black':'Amazon Kindle eBook reader',\n",
    "                                'Amazon 5W USB Official OEM Charger and Power Adapter for Fire Tablets and Kindle eReaders':'Power Adapters & Cables',\n",
    "                                'Amazon Fire Hd 8 8in Tablet 16gb Black B018szt3bk 6th Gen (2016) Android':'Amazon Fire Tablet',\n",
    "                                'Amazon Fire Hd 10 Tablet':'Amazon Fire Tablet',\n",
    "                                'Chargers & Adapters':'Power Adapters & Cables',\n",
    "                                'Kindle Oasis E-reader with Leather Charging Cover - Merlot':'Oasis E-reader',\n",
    "                                'Amazon 9W PowerFast Official OEM USB Charger and Power Adapter for Fire Tablets and Kindle eReaders':'Power Adapters & Cables',\n",
    "                                'Kindle Paperwhite E-reader - White':'Amazon Kindle eBook reader',\n",
    "                                'Amazon - Kindle Voyage - 4GB - Wi-Fi + 3G - Black':'Amazon Kindle eBook reader',\n",
    "                                'Fire HD 8 Tablet with Alexa':'Amazon Fire Tablet',\n",
    "                                'Amazon Echo and Fire TV Power Adapter':'Power Adapters & Cables',\n",
    "                                'New Amazon Kindle Fire Hd 9w Powerfast Adapter Charger + Micro Usb Angle Cable':'Power Adapters & Cables',\n",
    "                                'Amazon Fire Hd 6 Standing Protective Case(4th Generation - 2014 Release)':'Cases',\n",
    "                                'Kindle Oasis E-reader with Leather Charging Cover - Black':'Amazon Kindle eBook reader',\n",
    "                                'Amazon Fire Kids Edition Tablet':'Amazon Fire Tablet',\n",
    "                                'Amazon - Fire 16GB (5th Gen':'Amazon Fire Tablet',\n",
    "                                'Amazon Kindle Fire 5ft USB to Micro-USB Cable (works with most Micro-USB Tablets)':'Power Adapters & Cables',\n",
    "                                 'Echo (Black)':'Echo',\n",
    "                                'Certified Refurbished Amazon Fire TV with Alexa Voice Remote':'Refurbished Fire TV Remote',\n",
    "                                'Certified Refurbished Amazon Fire TV (Previous Generation - 1st)':'Refurbished Fire TV',\n",
    "                                'Amazon Kindle Touch Leather Case (4th Generation - 2011 Release)':'Cases',\n",
    "                                'Amazon Kindle Lighted Leather Cover':'Cases',\n",
    "                                'Certified Refurbished Amazon Fire TV Stick (Previous Generation - 1st)':'Refurbished Fire TV',\n",
    "                                'Amazon Kindle Fire Hd (3rd Generation) 8gb':'Amazon Kindle eBook reader',\n",
    "                                'Coconut Water Red Tea 16.5 Oz (pack of 12)':'Coconut Water',\n",
    "                                'Fire Tablets':'Amazon Fire Tablet',\n",
    "                                'Amazon Standing Protective Case for Fire HD 6 (4th Generation) - Black':'Cases'})"
   ]
  },
  {
   "cell_type": "code",
   "execution_count": 360,
   "id": "5bebe9bf-3459-4a00-beae-bd3ae3d614b9",
   "metadata": {},
   "outputs": [
    {
     "data": {
      "text/plain": [
       "name\n",
       "Amazon Fire Tablet                   32606\n",
       "Batteries                            12071\n",
       "Amazon Kindle eBook reader            5773\n",
       "Back To College                       5056\n",
       "Echo                                  4773\n",
       "Amazon Fire TV                        2541\n",
       "Amazon Portable Bluetooth             1144\n",
       "Amazon Kindle Fire                    1038\n",
       "Stereos                                671\n",
       "Featured Brands                        636\n",
       "Power Adapters & Cables                433\n",
       "Electronics                            281\n",
       "Oasis E-reader                         137\n",
       "Accessories                            112\n",
       "Cases                                   27\n",
       "Computers/Tablets & Networking          13\n",
       "Folder                                   9\n",
       "Refurbished Fire TV Remote               9\n",
       "Certified Refurbished Amazon Echo        7\n",
       "TVs Entertainment                        7\n",
       "Refurbished Fire TV                      5\n",
       "Rice Dishes                              1\n",
       "Coconut Water                            1\n",
       "Name: count, dtype: int64"
      ]
     },
     "execution_count": 360,
     "metadata": {},
     "output_type": "execute_result"
    }
   ],
   "source": [
    "# Check the review comments by product\n",
    "df['name'].value_counts()"
   ]
  },
  {
   "cell_type": "code",
   "execution_count": 361,
   "id": "e9f272b6-2073-473f-b00c-b989ae2b974c",
   "metadata": {},
   "outputs": [],
   "source": [
    "# Droping the missing value of review.ratings\n",
    "df.dropna(subset=['reviews.rating'], inplace=True)"
   ]
  },
  {
   "cell_type": "code",
   "execution_count": 362,
   "id": "09bf8687-ac33-40bc-b348-014ad4442156",
   "metadata": {},
   "outputs": [
    {
     "data": {
      "text/plain": [
       "(67318, 21)"
      ]
     },
     "execution_count": 362,
     "metadata": {},
     "output_type": "execute_result"
    }
   ],
   "source": [
    "df.shape"
   ]
  },
  {
   "cell_type": "code",
   "execution_count": 363,
   "id": "9489d955-5211-4e35-b5c2-32b8f94ff91b",
   "metadata": {},
   "outputs": [
    {
     "data": {
      "image/png": "[encoded data removed]",
      "text/plain": [
       "<Figure size 640x480 with 1 Axes>"
      ]
     },
     "metadata": {},
     "output_type": "display_data"
    }
   ],
   "source": [
    "# distribution of rating\n",
    "sns.countplot(x = df['reviews.rating'])\n",
    "\n",
    "plt.title('Distribution of Rating Scores')\n",
    "plt.xlabel('Rating')\n",
    "plt.ylabel('Count')\n",
    "plt.show()"
   ]
  },
  {
   "cell_type": "code",
   "execution_count": 364,
   "id": "23afecf7-3770-4494-a3cf-9bd7c7203ba5",
   "metadata": {},
   "outputs": [],
   "source": [
    "# Ratings by Product\n",
    "df_by_product = df.groupby(by = ['name','reviews.rating']).agg({'reviews.text':'count'}).reset_index()\n"
   ]
  },
  {
   "cell_type": "code",
   "execution_count": 365,
   "id": "d7e451ee-de37-4d85-92e6-dceefa681d85",
   "metadata": {},
   "outputs": [
    {
     "data": {
      "image/png": "[encoded data removed]"
     },
     "metadata": {},
     "output_type": "display_data"
    }
   ],
   "source": [
    "# distribution of rating\n",
    "fig = px.bar(df_by_product, x = 'name', y='reviews.text', color = 'reviews.rating',\n",
    "       title = 'Ratings by Product', \n",
    "       labels = {\"name\" : \"Product\", \"reviews.text\" : \"Number of Ratings\"}, text_auto = True, width=1100, height=900 )\n",
    "fig.show(\"png\")"
   ]
  },
  {
   "cell_type": "markdown",
   "id": "17d4c02b-90a1-423e-a032-3c7a0a2ea9df",
   "metadata": {},
   "source": [
    "#### Mapping Sentiment Based on Review Rating"
   ]
  },
  {
   "cell_type": "markdown",
   "id": "72844839-04a1-441b-9282-1dbd23a1f79f",
   "metadata": {},
   "source": [
    "- Mapped the Sentiment based on the review rating fields to positive or negative\n",
    "- Sentiment and review text fields are used for the Analysis.\n"
   ]
  },
  {
   "cell_type": "code",
   "execution_count": 366,
   "id": "258a5367-c653-4b2b-9e07-4d7014247a14",
   "metadata": {},
   "outputs": [],
   "source": [
    "# Map the Sentiment score based on the reviews.rating field.\n",
    "sentiment_score = {1: 0, 2: 0,3: 0,4: 1,5: 1}\n",
    "sentiment = {0: 'NEGATIVE',1: 'POSITIVE'}\n",
    "df['sentiment_score'] = df ['reviews.rating'].map(sentiment_score)\n",
    "df['sentiment'] = df['sentiment_score'].map(sentiment)"
   ]
  },
  {
   "cell_type": "code",
   "execution_count": 367,
   "id": "0cd52e84-3a6f-4bc4-beef-7da721cccf8b",
   "metadata": {},
   "outputs": [],
   "source": [
    "# Taking only the required Field for the Sentiment Analysis\n",
    "reviews[['text','sentiment']] = df[['reviews.text','sentiment']]"
   ]
  },
  {
   "cell_type": "code",
   "execution_count": 368,
   "id": "fb76f880-4da4-4aa1-8d2b-50560b71381e",
   "metadata": {},
   "outputs": [
    {
     "data": {
      "text/html": [
       "<div>\n",
       "<style scoped>\n",
       "    .dataframe tbody tr th:only-of-type {\n",
       "        vertical-align: middle;\n",
       "    }\n",
       "\n",
       "    .dataframe tbody tr th {\n",
       "        vertical-align: top;\n",
       "    }\n",
       "\n",
       "    .dataframe thead th {\n",
       "        text-align: right;\n",
       "    }\n",
       "</style>\n",
       "<table border=\"1\" class=\"dataframe\">\n",
       "  <thead>\n",
       "    <tr style=\"text-align: right;\">\n",
       "      <th></th>\n",
       "      <th>sentiment</th>\n",
       "      <th>text</th>\n",
       "      <th>char_count</th>\n",
       "    </tr>\n",
       "  </thead>\n",
       "  <tbody>\n",
       "    <tr>\n",
       "      <th>0</th>\n",
       "      <td>POSITIVE</td>\n",
       "      <td>This product so far has not disappointed. My c...</td>\n",
       "      <td>143</td>\n",
       "    </tr>\n",
       "    <tr>\n",
       "      <th>1</th>\n",
       "      <td>POSITIVE</td>\n",
       "      <td>great for beginner or experienced person. Boug...</td>\n",
       "      <td>75</td>\n",
       "    </tr>\n",
       "    <tr>\n",
       "      <th>2</th>\n",
       "      <td>POSITIVE</td>\n",
       "      <td>Inexpensive tablet for him to use and learn on...</td>\n",
       "      <td>131</td>\n",
       "    </tr>\n",
       "    <tr>\n",
       "      <th>3</th>\n",
       "      <td>POSITIVE</td>\n",
       "      <td>I've had my Fire HD 8 two weeks now and I love...</td>\n",
       "      <td>593</td>\n",
       "    </tr>\n",
       "    <tr>\n",
       "      <th>4</th>\n",
       "      <td>POSITIVE</td>\n",
       "      <td>I bought this for my grand daughter when she c...</td>\n",
       "      <td>613</td>\n",
       "    </tr>\n",
       "  </tbody>\n",
       "</table>\n",
       "</div>"
      ],
      "text/plain": [
       "  sentiment                                               text  char_count\n",
       "0  POSITIVE  This product so far has not disappointed. My c...         143\n",
       "1  POSITIVE  great for beginner or experienced person. Boug...          75\n",
       "2  POSITIVE  Inexpensive tablet for him to use and learn on...         131\n",
       "3  POSITIVE  I've had my Fire HD 8 two weeks now and I love...         593\n",
       "4  POSITIVE  I bought this for my grand daughter when she c...         613"
      ]
     },
     "execution_count": 368,
     "metadata": {},
     "output_type": "execute_result"
    }
   ],
   "source": [
    "reviews.head()"
   ]
  },
  {
   "cell_type": "code",
   "execution_count": 369,
   "id": "37bfe0c7-c9af-489e-b551-42e3732e00c8",
   "metadata": {},
   "outputs": [
    {
     "name": "stdout",
     "output_type": "stream",
     "text": [
      "<class 'pandas.core.frame.DataFrame'>\n",
      "Index: 67317 entries, 0 to 67991\n",
      "Data columns (total 3 columns):\n",
      " #   Column      Non-Null Count  Dtype \n",
      "---  ------      --------------  ----- \n",
      " 0   sentiment   67317 non-null  object\n",
      " 1   text        67317 non-null  object\n",
      " 2   char_count  67317 non-null  int64 \n",
      "dtypes: int64(1), object(2)\n",
      "memory usage: 4.1+ MB\n"
     ]
    }
   ],
   "source": [
    "reviews.info()"
   ]
  },
  {
   "cell_type": "code",
   "execution_count": 370,
   "id": "8e69f88b-cd01-442d-af8d-a1b1703499b5",
   "metadata": {},
   "outputs": [
    {
     "data": {
      "text/plain": [
       "sentiment     0\n",
       "text          0\n",
       "char_count    0\n",
       "dtype: int64"
      ]
     },
     "execution_count": 370,
     "metadata": {},
     "output_type": "execute_result"
    }
   ],
   "source": [
    "#Null value check\n",
    "reviews.isna().sum()"
   ]
  },
  {
   "cell_type": "code",
   "execution_count": 371,
   "id": "80c7002e-0c89-4fc8-ba87-c5dc3f0d1559",
   "metadata": {},
   "outputs": [
    {
     "data": {
      "text/plain": [
       "count    67317.000000\n",
       "mean       149.820268\n",
       "std        195.578991\n",
       "min          1.000000\n",
       "25%         63.000000\n",
       "50%         98.000000\n",
       "75%        175.000000\n",
       "max      10670.000000\n",
       "Name: char_count, dtype: float64"
      ]
     },
     "execution_count": 371,
     "metadata": {},
     "output_type": "execute_result"
    }
   ],
   "source": [
    "#summary statistics of review length\n",
    "reviews['char_count'] = reviews.text.apply(len)\n",
    "reviews['char_count'].describe()"
   ]
  },
  {
   "cell_type": "code",
   "execution_count": 372,
   "id": "c5780545-640a-4f8f-937e-69f248dc7311",
   "metadata": {},
   "outputs": [
    {
     "data": {
      "text/plain": [
       "(0.0, 10000.0)"
      ]
     },
     "execution_count": 372,
     "metadata": {},
     "output_type": "execute_result"
    },
    {
     "data": {
      "image/png": "[encoded data removed]",
      "text/plain": [
       "<Figure size 640x480 with 1 Axes>"
      ]
     },
     "metadata": {},
     "output_type": "display_data"
    }
   ],
   "source": [
    "#character count visualization\n",
    "fig, ax = plt.subplots()\n",
    "sns.histplot(reviews['char_count'], ax = ax).set_title('Reviews Character Count')\n",
    "ax.set_xlim(0, 10000)"
   ]
  },
  {
   "cell_type": "code",
   "execution_count": 376,
   "id": "802b2631-28e1-4dd9-8098-12ae1be89f51",
   "metadata": {},
   "outputs": [],
   "source": [
    "# Removing the char count after checking the maximum char count\n",
    "reviews.drop(columns=['char_count'],inplace=True)"
   ]
  },
  {
   "cell_type": "code",
   "execution_count": 377,
   "id": "e98b5871-e2e7-453d-8d69-cc5ce5206cbe",
   "metadata": {},
   "outputs": [
    {
     "data": {
      "image/png": "[encoded data removed]",
      "text/plain": [
       "<Figure size 500x500 with 1 Axes>"
      ]
     },
     "metadata": {},
     "output_type": "display_data"
    }
   ],
   "source": [
    "# Distribution of Sentiment\n",
    "\n",
    "plt.figure(figsize = (5,5))\n",
    "\n",
    "labels = ['POSITIVE', 'NEGATIVE']\n",
    "colors = colors = ['#355E3B', '#DC143C']\n",
    "\n",
    "plt.pie(reviews['sentiment'].value_counts(), autopct='%0.2f%%',colors=colors)\n",
    "\n",
    "plt.title('Distribution of sentiment', size=14, y=-0.01)\n",
    "plt.legend(labels, ncol=2, loc=9)\n",
    "plt.show()"
   ]
  },
  {
   "cell_type": "code",
   "execution_count": 378,
   "id": "77d0b76f-3a21-4d52-ba73-db1b575f4e6b",
   "metadata": {},
   "outputs": [
    {
     "data": {
      "text/html": [
       "<div>\n",
       "<style scoped>\n",
       "    .dataframe tbody tr th:only-of-type {\n",
       "        vertical-align: middle;\n",
       "    }\n",
       "\n",
       "    .dataframe tbody tr th {\n",
       "        vertical-align: top;\n",
       "    }\n",
       "\n",
       "    .dataframe thead th {\n",
       "        text-align: right;\n",
       "    }\n",
       "</style>\n",
       "<table border=\"1\" class=\"dataframe\">\n",
       "  <thead>\n",
       "    <tr style=\"text-align: right;\">\n",
       "      <th></th>\n",
       "      <th>sentiment</th>\n",
       "      <th>text</th>\n",
       "    </tr>\n",
       "  </thead>\n",
       "  <tbody>\n",
       "    <tr>\n",
       "      <th>0</th>\n",
       "      <td>1</td>\n",
       "      <td>This product so far has not disappointed. My c...</td>\n",
       "    </tr>\n",
       "    <tr>\n",
       "      <th>1</th>\n",
       "      <td>1</td>\n",
       "      <td>great for beginner or experienced person. Boug...</td>\n",
       "    </tr>\n",
       "    <tr>\n",
       "      <th>2</th>\n",
       "      <td>1</td>\n",
       "      <td>Inexpensive tablet for him to use and learn on...</td>\n",
       "    </tr>\n",
       "    <tr>\n",
       "      <th>3</th>\n",
       "      <td>1</td>\n",
       "      <td>I've had my Fire HD 8 two weeks now and I love...</td>\n",
       "    </tr>\n",
       "    <tr>\n",
       "      <th>4</th>\n",
       "      <td>1</td>\n",
       "      <td>I bought this for my grand daughter when she c...</td>\n",
       "    </tr>\n",
       "  </tbody>\n",
       "</table>\n",
       "</div>"
      ],
      "text/plain": [
       "   sentiment                                               text\n",
       "0          1  This product so far has not disappointed. My c...\n",
       "1          1  great for beginner or experienced person. Boug...\n",
       "2          1  Inexpensive tablet for him to use and learn on...\n",
       "3          1  I've had my Fire HD 8 two weeks now and I love...\n",
       "4          1  I bought this for my grand daughter when she c..."
      ]
     },
     "execution_count": 378,
     "metadata": {},
     "output_type": "execute_result"
    }
   ],
   "source": [
    "# Changing the Sentiment to numerical column\n",
    "\n",
    "sentiment = {'NEGATIVE':0, 'POSITIVE':1}\n",
    "reviews['sentiment'] = reviews['sentiment'].map(sentiment)\n",
    "reviews.head()"
   ]
  },
  {
   "cell_type": "markdown",
   "id": "e539e394-19b1-4343-9da1-afb94269e951",
   "metadata": {},
   "source": [
    "#### Train Test Split Data"
   ]
  },
  {
   "cell_type": "code",
   "execution_count": 382,
   "id": "71c578c4-7891-42d8-8ee4-749c714b006e",
   "metadata": {},
   "outputs": [],
   "source": [
    "# Split the Data into Train and Test\n",
    "X = reviews.drop('sentiment', axis = 1)\n",
    "y = reviews['sentiment']\n",
    "X_train, X_test, y_train, y_test = train_test_split(X, y, test_size = 0.25, random_state = 42)"
   ]
  },
  {
   "cell_type": "markdown",
   "id": "69dc9ce8-88ab-48d1-859f-96ab64abc99d",
   "metadata": {},
   "source": [
    "#### Data Preprocessing"
   ]
  },
  {
   "cell_type": "markdown",
   "id": "937ac44d-532d-43ba-a60e-4fa3c180a394",
   "metadata": {},
   "source": [
    "- Changed to text lowercase\n",
    "- Punctuations, Numbers and Stop words removal\n",
    "- Stemmed the review text.\n",
    "- TDIDF is used for Feature Extraction"
   ]
  },
  {
   "cell_type": "code",
   "execution_count": 399,
   "id": "af138f35-93cd-4002-ae1f-d64fea0b5857",
   "metadata": {},
   "outputs": [],
   "source": [
    "# Preprocessing Text\n",
    "# Lower case, punctuations, numbers, stop words and Tokenization, \n",
    "\n",
    "def preprocess_text(text):\n",
    "    #changing to lowercase\n",
    "    text = text.lower()\n",
    "    # Removing punctuations\n",
    "    text = text.translate (str.maketrans('', '', string.punctuation))\n",
    "    # Removing numbers in the text\n",
    "    text = text.translate(str.maketrans('', '', digits))\n",
    "    #Stop words\n",
    "    sw = stopwords.words('english')\n",
    "    #Stemming\n",
    "    stem = PorterStemmer()\n",
    "    return ' '.join([stem.stem(w) for w in word_tokenize(text) if w not in sw])"
   ]
  },
  {
   "cell_type": "code",
   "execution_count": 400,
   "id": "d19254e6-d5b5-4d74-a3ec-6c31036b99e5",
   "metadata": {},
   "outputs": [],
   "source": [
    "# Process the Train and Test Set\n",
    "X_train_preprocessed = X_train['text'].apply(preprocess_text)\n",
    "X_test_preprocessed  = X_test['text'].apply(preprocess_text)"
   ]
  },
  {
   "cell_type": "code",
   "execution_count": 401,
   "id": "7a47496d-c014-43e2-a779-cbeb130bc122",
   "metadata": {},
   "outputs": [
    {
     "data": {
      "text/plain": [
       "33043         work lot better fire stick love sd card slot\n",
       "62595    great tablet easi oper great upgrad famili member\n",
       "4088     purchas dad complaint he abl download game eas...\n",
       "66044    bought gift daughter actual sound better easie...\n",
       "1704                            like idea kindl tablet one\n",
       "                               ...                        \n",
       "37228                                        great product\n",
       "6289                                        lot read right\n",
       "54920    simpli put great tablet price surf web check e...\n",
       "860      trade receiv christma happi love size screen r...\n",
       "15824    daugther use leap frog tablet start batteri is...\n",
       "Name: text, Length: 50487, dtype: object"
      ]
     },
     "execution_count": 401,
     "metadata": {},
     "output_type": "execute_result"
    }
   ],
   "source": [
    "X_train_preprocessed "
   ]
  },
  {
   "cell_type": "code",
   "execution_count": 403,
   "id": "dfaf3b23-b9e4-4ece-834e-06a2256324f9",
   "metadata": {},
   "outputs": [],
   "source": [
    "params = {'tfidf__max_features': [100, 500, 1000, 2000]}"
   ]
  },
  {
   "cell_type": "markdown",
   "id": "a6c213b8-e3dd-4253-8f7e-897714f01cc7",
   "metadata": {},
   "source": [
    "### Modelling"
   ]
  },
  {
   "cell_type": "markdown",
   "id": "a5e4372f-4901-49c3-9150-9ac0d3f2eab0",
   "metadata": {},
   "source": [
    "#### Logistic Regression"
   ]
  },
  {
   "cell_type": "code",
   "execution_count": 407,
   "id": "8145e589-7085-4c3c-9025-baa60bcbf94e",
   "metadata": {},
   "outputs": [
    {
     "data": {
      "text/html": [
       "<div>\n",
       "<style scoped>\n",
       "    .dataframe tbody tr th:only-of-type {\n",
       "        vertical-align: middle;\n",
       "    }\n",
       "\n",
       "    .dataframe tbody tr th {\n",
       "        vertical-align: top;\n",
       "    }\n",
       "\n",
       "    .dataframe thead th {\n",
       "        text-align: right;\n",
       "    }\n",
       "</style>\n",
       "<table border=\"1\" class=\"dataframe\">\n",
       "  <thead>\n",
       "    <tr style=\"text-align: right;\">\n",
       "      <th></th>\n",
       "      <th>model</th>\n",
       "      <th>best_params</th>\n",
       "      <th>best_score</th>\n",
       "      <th>fit time</th>\n",
       "    </tr>\n",
       "  </thead>\n",
       "  <tbody>\n",
       "    <tr>\n",
       "      <th>0</th>\n",
       "      <td>Logistic</td>\n",
       "      <td>{'tfidf__max_features': 2000}</td>\n",
       "      <td>0.93672</td>\n",
       "      <td>7.57462</td>\n",
       "    </tr>\n",
       "  </tbody>\n",
       "</table>\n",
       "</div>"
      ],
      "text/plain": [
       "      model                    best_params  best_score  fit time\n",
       "0  Logistic  {'tfidf__max_features': 2000}     0.93672   7.57462"
      ]
     },
     "execution_count": 407,
     "metadata": {},
     "output_type": "execute_result"
    }
   ],
   "source": [
    "# TFIDF with Logistic Regression\n",
    "lgr_tfidf_pipe = Pipeline([('tfidf', TfidfVectorizer()),\n",
    "                       ('model', LogisticRegression())])\n",
    "lgr_tfidf_grid = GridSearchCV(lgr_tfidf_pipe, param_grid=params)\n",
    "\n",
    "lgr_tfidf_grid.fit(X_train_preprocessed,y_train)\n",
    "\n",
    "\n",
    "result_df =[]\n",
    "mean_fit_time_lgr_tfidf= lgr_tfidf_grid.cv_results_['mean_fit_time']\n",
    "mean_score_time_lgr_tfidf= lgr_tfidf_grid.cv_results_['mean_score_time']\n",
    "n_splits_lgr_tfidf  = lgr_tfidf_grid.n_splits_ #number of splits of training data\n",
    "n_iter_lgr_tfidf = pd.DataFrame(lgr_tfidf_grid.cv_results_).shape[0] #Iterations per split\n",
    "\n",
    "grid_time_lgr_tfidf = np.mean(mean_fit_time_lgr_tfidf + mean_score_time_lgr_tfidf) * n_splits_lgr_tfidf * n_iter_lgr_tfidf\n",
    "\n",
    "result_df.append(\n",
    "        {\n",
    "            'model': 'Logistic',\n",
    "            'best_params': lgr_tfidf_grid.best_params_,\n",
    "            'best_score':  lgr_tfidf_grid.best_estimator_.score(X_test_preprocessed, y_test),\n",
    "            'fit time': grid_time_lgr_tfidf\n",
    "            \n",
    "            \n",
    "        })\n",
    "    \n",
    "pd.DataFrame(result_df)"
   ]
  },
  {
   "cell_type": "markdown",
   "id": "c9c06cdc-3a79-41a4-9f52-b998d0961c1e",
   "metadata": {},
   "source": [
    "#### Decision Tree"
   ]
  },
  {
   "cell_type": "code",
   "execution_count": 408,
   "id": "1f72ae74-4f15-444a-b377-27d8bef8370a",
   "metadata": {},
   "outputs": [
    {
     "data": {
      "text/html": [
       "<div>\n",
       "<style scoped>\n",
       "    .dataframe tbody tr th:only-of-type {\n",
       "        vertical-align: middle;\n",
       "    }\n",
       "\n",
       "    .dataframe tbody tr th {\n",
       "        vertical-align: top;\n",
       "    }\n",
       "\n",
       "    .dataframe thead th {\n",
       "        text-align: right;\n",
       "    }\n",
       "</style>\n",
       "<table border=\"1\" class=\"dataframe\">\n",
       "  <thead>\n",
       "    <tr style=\"text-align: right;\">\n",
       "      <th></th>\n",
       "      <th>model</th>\n",
       "      <th>best_params</th>\n",
       "      <th>best_score</th>\n",
       "      <th>fit time</th>\n",
       "    </tr>\n",
       "  </thead>\n",
       "  <tbody>\n",
       "    <tr>\n",
       "      <th>0</th>\n",
       "      <td>Logistic</td>\n",
       "      <td>{'tfidf__max_features': 2000}</td>\n",
       "      <td>0.936720</td>\n",
       "      <td>7.574620</td>\n",
       "    </tr>\n",
       "    <tr>\n",
       "      <th>1</th>\n",
       "      <td>Decision Tree</td>\n",
       "      <td>{'tfidf__max_features': 2000}</td>\n",
       "      <td>0.939156</td>\n",
       "      <td>102.198809</td>\n",
       "    </tr>\n",
       "  </tbody>\n",
       "</table>\n",
       "</div>"
      ],
      "text/plain": [
       "           model                    best_params  best_score    fit time\n",
       "0       Logistic  {'tfidf__max_features': 2000}    0.936720    7.574620\n",
       "1  Decision Tree  {'tfidf__max_features': 2000}    0.939156  102.198809"
      ]
     },
     "execution_count": 408,
     "metadata": {},
     "output_type": "execute_result"
    }
   ],
   "source": [
    "# TFIDF with Decision Tree\n",
    "dt_tfidf_pipe = Pipeline([('tfidf', TfidfVectorizer()),\n",
    "                       ('model', DecisionTreeClassifier())])\n",
    "dt_tfidf_grid = GridSearchCV(dt_tfidf_pipe, param_grid=params)\n",
    "\n",
    "dt_tfidf_grid.fit(X_train_preprocessed,y_train)\n",
    "\n",
    "\n",
    "mean_fit_time_dt_tfidf= dt_tfidf_grid.cv_results_['mean_fit_time']\n",
    "mean_score_time_dt_tfidf= dt_tfidf_grid.cv_results_['mean_score_time']\n",
    "n_splits_dt_tfidf  = dt_tfidf_grid.n_splits_ #number of splits of training data\n",
    "n_iter_dt_tfidf = pd.DataFrame(dt_tfidf_grid.cv_results_).shape[0] #Iterations per split\n",
    "\n",
    "grid_time_dt_tfidf = np.mean(mean_fit_time_dt_tfidf + mean_score_time_dt_tfidf) * n_splits_dt_tfidf * n_iter_dt_tfidf\n",
    "\n",
    "result_df.append(\n",
    "        {\n",
    "            'model': 'Decision Tree',\n",
    "            'best_params': dt_tfidf_grid.best_params_,\n",
    "            'best_score':  dt_tfidf_grid.best_estimator_.score(X_test_preprocessed, y_test),\n",
    "            'fit time': grid_time_dt_tfidf\n",
    "            \n",
    "            \n",
    "        })\n",
    "    \n",
    "pd.DataFrame(result_df)"
   ]
  },
  {
   "cell_type": "markdown",
   "id": "8d54d7f1-b530-4cb6-89cd-d7aa9bf6c2d6",
   "metadata": {},
   "source": [
    "#### Navie Bayes"
   ]
  },
  {
   "cell_type": "code",
   "execution_count": 409,
   "id": "9609fa05-b80a-4f54-ac61-54b6a0d89828",
   "metadata": {},
   "outputs": [
    {
     "data": {
      "text/html": [
       "<div>\n",
       "<style scoped>\n",
       "    .dataframe tbody tr th:only-of-type {\n",
       "        vertical-align: middle;\n",
       "    }\n",
       "\n",
       "    .dataframe tbody tr th {\n",
       "        vertical-align: top;\n",
       "    }\n",
       "\n",
       "    .dataframe thead th {\n",
       "        text-align: right;\n",
       "    }\n",
       "</style>\n",
       "<table border=\"1\" class=\"dataframe\">\n",
       "  <thead>\n",
       "    <tr style=\"text-align: right;\">\n",
       "      <th></th>\n",
       "      <th>model</th>\n",
       "      <th>best_params</th>\n",
       "      <th>best_score</th>\n",
       "      <th>fit time</th>\n",
       "    </tr>\n",
       "  </thead>\n",
       "  <tbody>\n",
       "    <tr>\n",
       "      <th>0</th>\n",
       "      <td>Logistic</td>\n",
       "      <td>{'tfidf__max_features': 2000}</td>\n",
       "      <td>0.936720</td>\n",
       "      <td>7.574620</td>\n",
       "    </tr>\n",
       "    <tr>\n",
       "      <th>1</th>\n",
       "      <td>Decision Tree</td>\n",
       "      <td>{'tfidf__max_features': 2000}</td>\n",
       "      <td>0.939156</td>\n",
       "      <td>102.198809</td>\n",
       "    </tr>\n",
       "    <tr>\n",
       "      <th>2</th>\n",
       "      <td>Bayes</td>\n",
       "      <td>{'tfidf__max_features': 2000}</td>\n",
       "      <td>0.928758</td>\n",
       "      <td>6.827639</td>\n",
       "    </tr>\n",
       "  </tbody>\n",
       "</table>\n",
       "</div>"
      ],
      "text/plain": [
       "           model                    best_params  best_score    fit time\n",
       "0       Logistic  {'tfidf__max_features': 2000}    0.936720    7.574620\n",
       "1  Decision Tree  {'tfidf__max_features': 2000}    0.939156  102.198809\n",
       "2          Bayes  {'tfidf__max_features': 2000}    0.928758    6.827639"
      ]
     },
     "execution_count": 409,
     "metadata": {},
     "output_type": "execute_result"
    }
   ],
   "source": [
    "# TFIDF with NavieBayes\n",
    "nb_tfidf_pipe = Pipeline([('tfidf', TfidfVectorizer()),\n",
    "                       ('model', MultinomialNB())])\n",
    "nb_tfidf_grid = GridSearchCV(nb_tfidf_pipe, param_grid=params)\n",
    "\n",
    "nb_tfidf_grid.fit(X_train_preprocessed,y_train)\n",
    "\n",
    "mean_fit_time_nb_tfidf= nb_tfidf_grid.cv_results_['mean_fit_time']\n",
    "mean_score_time_nb_tfidf= nb_tfidf_grid.cv_results_['mean_score_time']\n",
    "n_splits_nb_tfidf  = nb_tfidf_grid.n_splits_ #number of splits of training data\n",
    "n_iter_nb_tfidf = pd.DataFrame(nb_tfidf_grid.cv_results_).shape[0] #Iterations per split\n",
    "\n",
    "grid_time_nb_tfidf = np.mean(mean_fit_time_nb_tfidf + mean_score_time_nb_tfidf) * n_splits_nb_tfidf * n_iter_nb_tfidf\n",
    "\n",
    "result_df.append(\n",
    "        {\n",
    "            'model': 'Bayes',\n",
    "            'best_params': nb_tfidf_grid.best_params_,\n",
    "            'best_score':  nb_tfidf_grid.best_estimator_.score(X_test_preprocessed, y_test),\n",
    "            'fit time': grid_time_nb_tfidf\n",
    "            \n",
    "            \n",
    "        })\n",
    "    \n",
    "pd.DataFrame(result_df)"
   ]
  },
  {
   "cell_type": "markdown",
   "id": "4f73304e-7e68-44cd-99b8-8db065b786fe",
   "metadata": {},
   "source": [
    "#### Support Vector Classifier"
   ]
  },
  {
   "cell_type": "code",
   "execution_count": 412,
   "id": "240b00e9-a23e-497d-adaf-ab3a38563fdd",
   "metadata": {},
   "outputs": [
    {
     "data": {
      "text/html": [
       "<div>\n",
       "<style scoped>\n",
       "    .dataframe tbody tr th:only-of-type {\n",
       "        vertical-align: middle;\n",
       "    }\n",
       "\n",
       "    .dataframe tbody tr th {\n",
       "        vertical-align: top;\n",
       "    }\n",
       "\n",
       "    .dataframe thead th {\n",
       "        text-align: right;\n",
       "    }\n",
       "</style>\n",
       "<table border=\"1\" class=\"dataframe\">\n",
       "  <thead>\n",
       "    <tr style=\"text-align: right;\">\n",
       "      <th></th>\n",
       "      <th>model</th>\n",
       "      <th>best_params</th>\n",
       "      <th>best_score</th>\n",
       "      <th>fit time</th>\n",
       "    </tr>\n",
       "  </thead>\n",
       "  <tbody>\n",
       "    <tr>\n",
       "      <th>0</th>\n",
       "      <td>Logistic</td>\n",
       "      <td>{'tfidf__max_features': 2000}</td>\n",
       "      <td>0.936720</td>\n",
       "      <td>7.574620</td>\n",
       "    </tr>\n",
       "    <tr>\n",
       "      <th>1</th>\n",
       "      <td>Decision Tree</td>\n",
       "      <td>{'tfidf__max_features': 2000}</td>\n",
       "      <td>0.939156</td>\n",
       "      <td>102.198809</td>\n",
       "    </tr>\n",
       "    <tr>\n",
       "      <th>2</th>\n",
       "      <td>Bayes</td>\n",
       "      <td>{'tfidf__max_features': 2000}</td>\n",
       "      <td>0.928758</td>\n",
       "      <td>6.827639</td>\n",
       "    </tr>\n",
       "    <tr>\n",
       "      <th>3</th>\n",
       "      <td>SVC</td>\n",
       "      <td>{'tfidf__max_features': 2000}</td>\n",
       "      <td>0.928758</td>\n",
       "      <td>6.885244</td>\n",
       "    </tr>\n",
       "  </tbody>\n",
       "</table>\n",
       "</div>"
      ],
      "text/plain": [
       "           model                    best_params  best_score    fit time\n",
       "0       Logistic  {'tfidf__max_features': 2000}    0.936720    7.574620\n",
       "1  Decision Tree  {'tfidf__max_features': 2000}    0.939156  102.198809\n",
       "2          Bayes  {'tfidf__max_features': 2000}    0.928758    6.827639\n",
       "3            SVC  {'tfidf__max_features': 2000}    0.928758    6.885244"
      ]
     },
     "execution_count": 412,
     "metadata": {},
     "output_type": "execute_result"
    }
   ],
   "source": [
    "# TFIDF with SVC\n",
    "svc_tfidf_pipe = Pipeline([('tfidf', TfidfVectorizer()),\n",
    "                       ('model', SVC(kernel = 'linear'))])\n",
    "svc_tfidf_grid = GridSearchCV(nb_tfidf_pipe, param_grid=params)\n",
    "\n",
    "svc_tfidf_grid.fit(X_train_preprocessed,y_train)\n",
    "\n",
    "mean_fit_time_svc_tfidf= svc_tfidf_grid.cv_results_['mean_fit_time']\n",
    "mean_score_time_svc_tfidf= svc_tfidf_grid.cv_results_['mean_score_time']\n",
    "n_splits_svc_tfidf  = svc_tfidf_grid.n_splits_ #number of splits of training data\n",
    "n_iter_svc_tfidf = pd.DataFrame(svc_tfidf_grid.cv_results_).shape[0] #Iterations per split\n",
    "\n",
    "grid_time_svc_tfidf = np.mean(mean_fit_time_svc_tfidf + mean_score_time_svc_tfidf) * n_splits_svc_tfidf * n_iter_svc_tfidf\n",
    "\n",
    "result_df.append(\n",
    "        {\n",
    "            'model': 'SVC',\n",
    "            'best_params': svc_tfidf_grid.best_params_,\n",
    "            'best_score':  svc_tfidf_grid.best_estimator_.score(X_test_preprocessed, y_test),\n",
    "            'fit time': grid_time_svc_tfidf\n",
    "            \n",
    "            \n",
    "        })\n",
    "    \n",
    "pd.DataFrame(result_df)"
   ]
  }
 ],
 "metadata": {
  "kernelspec": {
   "display_name": "Python 3 (ipykernel)",
   "language": "python",
   "name": "python3"
  },
  "language_info": {
   "codemirror_mode": {
    "name": "ipython",
    "version": 3
   },
   "file_extension": ".py",
   "mimetype": "text/x-python",
   "name": "python",
   "nbconvert_exporter": "python",
   "pygments_lexer": "ipython3",
   "version": "3.9.6"
  }
 },
 "nbformat": 4,
 "nbformat_minor": 5
}
